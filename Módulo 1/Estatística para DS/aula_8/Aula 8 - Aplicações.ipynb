{
 "cells": [
  {
   "cell_type": "code",
   "execution_count": 21,
   "metadata": {},
   "outputs": [],
   "source": [
    "import numpy as np\n",
    "\n",
    "from sklearn.datasets import load_iris\n",
    "from sklearn.model_selection import train_test_split\n",
    "from sklearn.naive_bayes import GaussianNB\n",
    "from numpy.random import beta"
   ]
  },
  {
   "attachments": {},
   "cell_type": "markdown",
   "metadata": {},
   "source": [
    "## Iris dataset"
   ]
  },
  {
   "cell_type": "code",
   "execution_count": 22,
   "metadata": {},
   "outputs": [
    {
     "data": {
      "text/html": [
       "<div>\n",
       "<style scoped>\n",
       "    .dataframe tbody tr th:only-of-type {\n",
       "        vertical-align: middle;\n",
       "    }\n",
       "\n",
       "    .dataframe tbody tr th {\n",
       "        vertical-align: top;\n",
       "    }\n",
       "\n",
       "    .dataframe thead th {\n",
       "        text-align: right;\n",
       "    }\n",
       "</style>\n",
       "<table border=\"1\" class=\"dataframe\">\n",
       "  <thead>\n",
       "    <tr style=\"text-align: right;\">\n",
       "      <th></th>\n",
       "      <th>count</th>\n",
       "      <th>mean</th>\n",
       "      <th>std</th>\n",
       "      <th>min</th>\n",
       "      <th>25%</th>\n",
       "      <th>50%</th>\n",
       "      <th>75%</th>\n",
       "      <th>max</th>\n",
       "    </tr>\n",
       "    <tr>\n",
       "      <th>type</th>\n",
       "      <th></th>\n",
       "      <th></th>\n",
       "      <th></th>\n",
       "      <th></th>\n",
       "      <th></th>\n",
       "      <th></th>\n",
       "      <th></th>\n",
       "      <th></th>\n",
       "    </tr>\n",
       "  </thead>\n",
       "  <tbody>\n",
       "    <tr>\n",
       "      <th>0</th>\n",
       "      <td>50.0</td>\n",
       "      <td>5.006</td>\n",
       "      <td>0.352490</td>\n",
       "      <td>4.3</td>\n",
       "      <td>4.800</td>\n",
       "      <td>5.0</td>\n",
       "      <td>5.2</td>\n",
       "      <td>5.8</td>\n",
       "    </tr>\n",
       "    <tr>\n",
       "      <th>1</th>\n",
       "      <td>50.0</td>\n",
       "      <td>5.936</td>\n",
       "      <td>0.516171</td>\n",
       "      <td>4.9</td>\n",
       "      <td>5.600</td>\n",
       "      <td>5.9</td>\n",
       "      <td>6.3</td>\n",
       "      <td>7.0</td>\n",
       "    </tr>\n",
       "    <tr>\n",
       "      <th>2</th>\n",
       "      <td>50.0</td>\n",
       "      <td>6.588</td>\n",
       "      <td>0.635880</td>\n",
       "      <td>4.9</td>\n",
       "      <td>6.225</td>\n",
       "      <td>6.5</td>\n",
       "      <td>6.9</td>\n",
       "      <td>7.9</td>\n",
       "    </tr>\n",
       "  </tbody>\n",
       "</table>\n",
       "</div>"
      ],
      "text/plain": [
       "      count   mean       std  min    25%  50%  75%  max\n",
       "type                                                   \n",
       "0      50.0  5.006  0.352490  4.3  4.800  5.0  5.2  5.8\n",
       "1      50.0  5.936  0.516171  4.9  5.600  5.9  6.3  7.0\n",
       "2      50.0  6.588  0.635880  4.9  6.225  6.5  6.9  7.9"
      ]
     },
     "execution_count": 22,
     "metadata": {},
     "output_type": "execute_result"
    }
   ],
   "source": [
    "dados = load_iris(as_frame = True)['data']\n",
    "dados['type'] = load_iris(as_frame = True )['target']\n",
    "\n",
    "dados.groupby('type').describe()['sepal length (cm)']"
   ]
  },
  {
   "cell_type": "code",
   "execution_count": 23,
   "metadata": {},
   "outputs": [
    {
     "data": {
      "text/html": [
       "<div>\n",
       "<style scoped>\n",
       "    .dataframe tbody tr th:only-of-type {\n",
       "        vertical-align: middle;\n",
       "    }\n",
       "\n",
       "    .dataframe tbody tr th {\n",
       "        vertical-align: top;\n",
       "    }\n",
       "\n",
       "    .dataframe thead th {\n",
       "        text-align: right;\n",
       "    }\n",
       "</style>\n",
       "<table border=\"1\" class=\"dataframe\">\n",
       "  <thead>\n",
       "    <tr style=\"text-align: right;\">\n",
       "      <th></th>\n",
       "      <th>count</th>\n",
       "      <th>mean</th>\n",
       "      <th>std</th>\n",
       "      <th>min</th>\n",
       "      <th>25%</th>\n",
       "      <th>50%</th>\n",
       "      <th>75%</th>\n",
       "      <th>max</th>\n",
       "    </tr>\n",
       "    <tr>\n",
       "      <th>type</th>\n",
       "      <th></th>\n",
       "      <th></th>\n",
       "      <th></th>\n",
       "      <th></th>\n",
       "      <th></th>\n",
       "      <th></th>\n",
       "      <th></th>\n",
       "      <th></th>\n",
       "    </tr>\n",
       "  </thead>\n",
       "  <tbody>\n",
       "    <tr>\n",
       "      <th>0</th>\n",
       "      <td>50.0</td>\n",
       "      <td>0.246</td>\n",
       "      <td>0.105386</td>\n",
       "      <td>0.1</td>\n",
       "      <td>0.2</td>\n",
       "      <td>0.2</td>\n",
       "      <td>0.3</td>\n",
       "      <td>0.6</td>\n",
       "    </tr>\n",
       "    <tr>\n",
       "      <th>1</th>\n",
       "      <td>50.0</td>\n",
       "      <td>1.326</td>\n",
       "      <td>0.197753</td>\n",
       "      <td>1.0</td>\n",
       "      <td>1.2</td>\n",
       "      <td>1.3</td>\n",
       "      <td>1.5</td>\n",
       "      <td>1.8</td>\n",
       "    </tr>\n",
       "    <tr>\n",
       "      <th>2</th>\n",
       "      <td>50.0</td>\n",
       "      <td>2.026</td>\n",
       "      <td>0.274650</td>\n",
       "      <td>1.4</td>\n",
       "      <td>1.8</td>\n",
       "      <td>2.0</td>\n",
       "      <td>2.3</td>\n",
       "      <td>2.5</td>\n",
       "    </tr>\n",
       "  </tbody>\n",
       "</table>\n",
       "</div>"
      ],
      "text/plain": [
       "      count   mean       std  min  25%  50%  75%  max\n",
       "type                                                 \n",
       "0      50.0  0.246  0.105386  0.1  0.2  0.2  0.3  0.6\n",
       "1      50.0  1.326  0.197753  1.0  1.2  1.3  1.5  1.8\n",
       "2      50.0  2.026  0.274650  1.4  1.8  2.0  2.3  2.5"
      ]
     },
     "execution_count": 23,
     "metadata": {},
     "output_type": "execute_result"
    }
   ],
   "source": [
    "dados.groupby('type').describe()['petal width (cm)']"
   ]
  },
  {
   "cell_type": "code",
   "execution_count": 24,
   "metadata": {},
   "outputs": [],
   "source": [
    "X = load_iris(as_frame = True)['data']\n",
    "y = load_iris(as_frame = True)['target']\n",
    "\n",
    "X_train, X_test, y_train, y_test = train_test_split(X, y, test_size = 0.5, random_state = 0)"
   ]
  },
  {
   "cell_type": "code",
   "execution_count": 25,
   "metadata": {},
   "outputs": [
    {
     "name": "stdout",
     "output_type": "stream",
     "text": [
      "Número de casos: 75\n",
      "Número de erros: 4\n",
      "Taxa de acerto: 95.0%\n"
     ]
    }
   ],
   "source": [
    "gnb = GaussianNB()\n",
    "\n",
    "gnb_treinado = gnb.fit(X_train, y_train)\n",
    "\n",
    "y_pred = gnb_treinado.predict(X_test)\n",
    "\n",
    "total_de_casos = X_test.shape[0]\n",
    "total_de_erros = (y_test != y_pred).sum()\n",
    "taxa = round(1 - (total_de_erros / total_de_casos), 2) * 100\n",
    "\n",
    "print(\"Número de casos: {0}\\nNúmero de erros: {1}\\nTaxa de acerto: {2}%\".format(total_de_casos, total_de_erros, taxa))"
   ]
  },
  {
   "attachments": {},
   "cell_type": "markdown",
   "metadata": {},
   "source": [
    "## Thompson Sampling"
   ]
  },
  {
   "cell_type": "code",
   "execution_count": 26,
   "metadata": {},
   "outputs": [
    {
     "name": "stdout",
     "output_type": "stream",
     "text": [
      "Resultado para o título 1: [0.24847761]\n",
      "Resultado para o título 2: [0.09389046]\n",
      "Resultado para o título 3: [0.73974265]\n",
      "Resultado para o título 4: [0.20521792]\n"
     ]
    }
   ],
   "source": [
    "titulo_1_a = 0 + 1\n",
    "titulo_1_b = 0 + 1\n",
    "\n",
    "titulo_2_a = 0 + 1\n",
    "titulo_2_b = 0 + 1\n",
    "\n",
    "titulo_3_a = 0 + 1\n",
    "titulo_3_b = 0 + 1\n",
    "\n",
    "titulo_4_a = 0 + 1\n",
    "titulo_4_b = 0 + 1\n",
    "\n",
    "t1 = beta(a = titulo_1_a, b = titulo_1_b, size = 1)\n",
    "t2 = beta(a = titulo_2_a, b = titulo_2_b, size = 1)\n",
    "t3 = beta(a = titulo_3_a, b = titulo_3_b, size = 1)\n",
    "t4 = beta(a = titulo_4_a, b = titulo_4_b, size = 1)\n",
    "\n",
    "print(\"Resultado para o título 1: {}\\n\\\n",
    "Resultado para o título 2: {}\\n\\\n",
    "Resultado para o título 3: {}\\n\\\n",
    "Resultado para o título 4: {}\".format(t1, t2, t3, t4))"
   ]
  },
  {
   "cell_type": "code",
   "execution_count": 27,
   "metadata": {},
   "outputs": [
    {
     "name": "stdout",
     "output_type": "stream",
     "text": [
      "Resultado para o título 1: [0.1553155]\n",
      "Resultado para o título 2: [0.16654131]\n",
      "Resultado para o título 3: [0.16870565]\n",
      "Resultado para o título 4: [0.1535004]\n"
     ]
    }
   ],
   "source": [
    "titulo_1_a = 1000 + 1\n",
    "titulo_1_b = 5000 + 1\n",
    "\n",
    "titulo_2_a = 987 + 1\n",
    "titulo_2_b = 4763 + 1\n",
    "\n",
    "titulo_3_a = 1563 + 1\n",
    "titulo_3_b = 7580 + 1\n",
    "\n",
    "titulo_4_a = 804 + 1\n",
    "titulo_4_b = 4503 + 1\n",
    "\n",
    "t1 = beta(a = titulo_1_a, b = titulo_1_b, size = 1)\n",
    "t2 = beta(a = titulo_2_a, b = titulo_2_b, size = 1)\n",
    "t3 = beta(a = titulo_3_a, b = titulo_3_b, size = 1)\n",
    "t4 = beta(a = titulo_4_a, b = titulo_4_b, size = 1)\n",
    "\n",
    "print(\"Resultado para o título 1: {}\\n\\\n",
    "Resultado para o título 2: {}\\n\\\n",
    "Resultado para o título 3: {}\\n\\\n",
    "Resultado para o título 4: {}\".format(t1, t2, t3, t4))"
   ]
  },
  {
   "attachments": {},
   "cell_type": "markdown",
   "metadata": {},
   "source": [
    "## Cadeias de Markov"
   ]
  },
  {
   "cell_type": "code",
   "execution_count": 28,
   "metadata": {},
   "outputs": [],
   "source": [
    "p_A_amanha_dado_B_hoje = 0.73\n",
    "p_B_amanha_dado_B_hoje = 0.27\n",
    "\n",
    "p_B_amanha_dado_A_hoje = 0.85\n",
    "p_A_amanha_dado_A_hoje = 0.15\n",
    "\n",
    "p_A = 0.58\n",
    "p_B = 0.42"
   ]
  },
  {
   "cell_type": "code",
   "execution_count": 29,
   "metadata": {},
   "outputs": [
    {
     "data": {
      "text/plain": [
       "0.39359999999999995"
      ]
     },
     "execution_count": 29,
     "metadata": {},
     "output_type": "execute_result"
    }
   ],
   "source": [
    "p_A_amanha = p_A*p_A_amanha_dado_A_hoje + p_B*p_A_amanha_dado_B_hoje\n",
    "p_A_amanha"
   ]
  },
  {
   "cell_type": "code",
   "execution_count": 30,
   "metadata": {},
   "outputs": [
    {
     "data": {
      "text/plain": [
       "0.6063999999999999"
      ]
     },
     "execution_count": 30,
     "metadata": {},
     "output_type": "execute_result"
    }
   ],
   "source": [
    "p_B_amanha = p_A*p_B_amanha_dado_A_hoje + p_B*p_B_amanha_dado_B_hoje\n",
    "p_B_amanha"
   ]
  },
  {
   "cell_type": "code",
   "execution_count": 31,
   "metadata": {},
   "outputs": [
    {
     "data": {
      "text/plain": [
       "array([[0.50570513],\n",
       "       [0.50639442]])"
      ]
     },
     "execution_count": 31,
     "metadata": {},
     "output_type": "execute_result"
    }
   ],
   "source": [
    "hoje = np.array([\n",
    "    [0.15, 0.85],\n",
    "    [0.73, 0.27]\n",
    "])\n",
    "\n",
    "nove_dias_a_frente = np.linalg.matrix_power(hoje, 10)\n",
    "priori = np.array([ [0.42], [0.58]])\n",
    "\n",
    "daqui_a_dez_dias = np.matmul(nove_dias_a_frente, priori)\n",
    "\n",
    "daqui_a_dez_dias"
   ]
  }
 ],
 "metadata": {
  "kernelspec": {
   "display_name": "Python 3",
   "language": "python",
   "name": "python3"
  },
  "language_info": {
   "codemirror_mode": {
    "name": "ipython",
    "version": 3
   },
   "file_extension": ".py",
   "mimetype": "text/x-python",
   "name": "python",
   "nbconvert_exporter": "python",
   "pygments_lexer": "ipython3",
   "version": "3.10.6"
  },
  "orig_nbformat": 4
 },
 "nbformat": 4,
 "nbformat_minor": 2
}
