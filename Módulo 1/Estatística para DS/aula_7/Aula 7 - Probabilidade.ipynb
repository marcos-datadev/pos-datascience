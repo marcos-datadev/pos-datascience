{
 "cells": [
  {
   "attachments": {},
   "cell_type": "markdown",
   "metadata": {},
   "source": [
    "## Probabilidade"
   ]
  },
  {
   "attachments": {},
   "cell_type": "markdown",
   "metadata": {},
   "source": [
    "### Variável aleatória"
   ]
  },
  {
   "attachments": {},
   "cell_type": "markdown",
   "metadata": {},
   "source": [
    "É uma função que transforma o resultado de um experimento aleatório em um número.\n",
    "\n",
    "O conjunto de todos os resultados possíveis é chamado de espaço amostral.\n",
    "\n",
    "Podemos trabalhar com dois tipos de variáveis aleatórias: discretas e contínuas. Toda variável aleatória possui um valor esperado e uma variância.\n",
    "\n",
    "Para variáveis discretas, podemos calcular a probabilidade para um valor ou para um intervalo. Para variáveis contínuas, nunca podemos calcular a probabilidade de um valor definido, mas somente de intervalos de valores."
   ]
  },
  {
   "attachments": {},
   "cell_type": "markdown",
   "metadata": {},
   "source": [
    "### Teorema das probabilidades"
   ]
  },
  {
   "attachments": {},
   "cell_type": "markdown",
   "metadata": {},
   "source": [
    "A definição clássica de probabilidade é a proporção entre número de eventos positivos (ou desejáveis) e número total de resultados."
   ]
  },
  {
   "cell_type": "code",
   "execution_count": 1,
   "metadata": {},
   "outputs": [
    {
     "data": {
      "text/plain": [
       "0.55"
      ]
     },
     "execution_count": 1,
     "metadata": {},
     "output_type": "execute_result"
    }
   ],
   "source": [
    "p_ganhar_bonus_empresa = 0.4\n",
    "p_ganhar_aumento = 0.25\n",
    "\n",
    "p_ganhar_bonus_e_aumento = 0.1\n",
    "\n",
    "\n",
    "p_ganhar_bonus_ou_aumento = p_ganhar_bonus_empresa + p_ganhar_aumento - p_ganhar_bonus_e_aumento\n",
    "\n",
    "p_ganhar_bonus_ou_aumento"
   ]
  },
  {
   "cell_type": "code",
   "execution_count": 2,
   "metadata": {},
   "outputs": [
    {
     "data": {
      "text/plain": [
       "0.85"
      ]
     },
     "execution_count": 2,
     "metadata": {},
     "output_type": "execute_result"
    }
   ],
   "source": [
    "p_chover_hoje = 0.15\n",
    "p_nao_chover_hoje = 1 - p_chover_hoje\n",
    "\n",
    "p_nao_chover_hoje"
   ]
  },
  {
   "cell_type": "code",
   "execution_count": 3,
   "metadata": {},
   "outputs": [
    {
     "data": {
      "text/plain": [
       "0.6"
      ]
     },
     "execution_count": 3,
     "metadata": {},
     "output_type": "execute_result"
    }
   ],
   "source": [
    "p_A = 0.15\n",
    "p_B = 0.27\n",
    "p_A_e_B = 0.09\n",
    "\n",
    "\n",
    "p_B_dado_A = p_A_e_B / p_A\n",
    "p_B_dado_A"
   ]
  },
  {
   "cell_type": "code",
   "execution_count": 4,
   "metadata": {},
   "outputs": [
    {
     "data": {
      "text/plain": [
       "0.04000000000000001"
      ]
     },
     "execution_count": 4,
     "metadata": {},
     "output_type": "execute_result"
    }
   ],
   "source": [
    "p_A = 0.2\n",
    "p_B = 0.2\n",
    "\n",
    "p_A_intersecao_B = p_A * p_B\n",
    "\n",
    "p_A_intersecao_B"
   ]
  },
  {
   "cell_type": "code",
   "execution_count": 6,
   "metadata": {},
   "outputs": [
    {
     "data": {
      "text/plain": [
       "0.014850000000000006"
      ]
     },
     "execution_count": 6,
     "metadata": {},
     "output_type": "execute_result"
    }
   ],
   "source": [
    "p_B = 0.01\n",
    "p_Bc = 1 - p_B\n",
    "\n",
    "p_A_dado_B = 0.99\n",
    "p_Ac_dado_B = 1 - p_A_dado_B\n",
    "\n",
    "p_Ac_dado_Bc = 0.995\n",
    "p_A_dado_Bc = 1 - p_Ac_dado_Bc\n",
    "\n",
    "p_A = p_B*p_A_dado_B + p_Bc*p_A_dado_Bc\n",
    "p_A"
   ]
  },
  {
   "cell_type": "code",
   "execution_count": 7,
   "metadata": {},
   "outputs": [
    {
     "data": {
      "text/plain": [
       "0.6666666666666665"
      ]
     },
     "execution_count": 7,
     "metadata": {},
     "output_type": "execute_result"
    }
   ],
   "source": [
    "p_B_dado_A = p_A_dado_B*p_B / p_A\n",
    "\n",
    "p_B_dado_A"
   ]
  }
 ],
 "metadata": {
  "kernelspec": {
   "display_name": "Python 3",
   "language": "python",
   "name": "python3"
  },
  "language_info": {
   "codemirror_mode": {
    "name": "ipython",
    "version": 3
   },
   "file_extension": ".py",
   "mimetype": "text/x-python",
   "name": "python",
   "nbconvert_exporter": "python",
   "pygments_lexer": "ipython3",
   "version": "3.10.6"
  },
  "orig_nbformat": 4
 },
 "nbformat": 4,
 "nbformat_minor": 2
}
